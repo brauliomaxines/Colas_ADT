{
  "nbformat": 4,
  "nbformat_minor": 0,
  "metadata": {
    "colab": {
      "name": "Colas_ 1310.ipynb",
      "provenance": [],
      "collapsed_sections": []
    },
    "kernelspec": {
      "name": "python3",
      "display_name": "Python 3"
    },
    "language_info": {
      "name": "python"
    }
  },
  "cells": [
    {
      "cell_type": "code",
      "metadata": {
        "id": "BxVRc9KGJ_jE"
      },
      "source": [
        "class Queue:\n",
        "    def __init__( self ):\n",
        "        self.data = [ ]\n",
        "\n",
        "    def is_empty(self):\n",
        "        return len( self.data ) == 0\n",
        "\n",
        "    def length( self ):\n",
        "        return len( self.data )\n",
        "\n",
        "    def enqueue( self, value ):\n",
        "        self.data.append( value )\n",
        "\n",
        "    def dequeue( self ):\n",
        "        return self.data.pop(0)\n",
        "\n",
        "    def to_string( self ):\n",
        "        for elem in self.data:\n",
        "            print(f\" |{ elem } | <--\", end = \"\" )\n",
        "            ##print(\"\")"
      ],
      "execution_count": 7,
      "outputs": []
    },
    {
      "cell_type": "code",
      "metadata": {
        "colab": {
          "base_uri": "https://localhost:8080/"
        },
        "id": "YFLGkCcpNfsB",
        "outputId": "7b2684a7-8c3f-4006-d80b-376c7802aa82"
      },
      "source": [
        "cola = Queue()\n",
        "print(\"Esta vacio?: \", cola.is_empty())\n",
        "print(\"Numero de elementos =\", cola.length())\n",
        "cola.enqueue(10)\n",
        "cola.enqueue(20)\n",
        "cola.enqueue(30)\n",
        "print(\"Esta vacio?: \", cola.is_empty())\n",
        "print(\"Numero de elementos =\", cola.length())\n",
        "cola.enqueue(40)\n",
        "cola.enqueue(50)\n",
        "cola.enqueue(60)\n",
        "cola.to_string()\n",
        "siguiente = cola.dequeue()\n",
        "print(\"Atendiendo a:\", siguiente)\n",
        "cola.to_string()"
      ],
      "execution_count": 9,
      "outputs": [
        {
          "output_type": "stream",
          "name": "stdout",
          "text": [
            "Esta vacio?:  True\n",
            "Numero de elementos = 0\n",
            "Esta vacio?:  False\n",
            "Numero de elementos = 3\n",
            " |10 | <-- |20 | <-- |30 | <-- |40 | <-- |50 | <-- |60 | <--Atendiendo a: 10\n",
            " |20 | <-- |30 | <-- |40 | <-- |50 | <-- |60 | <--"
          ]
        }
      ]
    },
    {
      "cell_type": "markdown",
      "metadata": {
        "id": "VkBCFCmSQkA9"
      },
      "source": [
        "# Variantes del ADT cola\n",
        "1. Circulares\n",
        "2. prioridad\n",
        "    1. acotada\n",
        "    2. No acotada\n"
      ]
    }
  ]
}